{
 "cells": [
  {
   "cell_type": "code",
   "execution_count": 22,
   "metadata": {},
   "outputs": [],
   "source": [
    "import pandas as pd"
   ]
  },
  {
   "cell_type": "code",
   "execution_count": 23,
   "metadata": {},
   "outputs": [],
   "source": [
    "df = pd.read_excel(\"C:\\\\Users\\\\sonihi\\\\Desktop\\\\opp_dec.xlsx\")\n",
    "df.dropna(axis=1, how='all', inplace=True)\n",
    "# df.drop(columns=['Amount', 'Unnamed: 10'], inplace=True)\n",
    "df.rename(columns={'Unnamed: 9' : 'Note'}, inplace=True)"
   ]
  },
  {
   "cell_type": "code",
   "execution_count": 24,
   "metadata": {},
   "outputs": [],
   "source": [
    "df['Lead Unit'] = df[\"Lead Unit\"].str.split(\"/\").str[0]"
   ]
  },
  {
   "cell_type": "code",
   "execution_count": 25,
   "metadata": {},
   "outputs": [
    {
     "name": "stderr",
     "output_type": "stream",
     "text": [
      "C:\\Users\\sonihi\\AppData\\Local\\Temp\\ipykernel_32616\\1590513900.py:1: UserWarning: Could not infer format, so each element will be parsed individually, falling back to `dateutil`. To ensure parsing is consistent and as-expected, please specify a format.\n",
      "  df['Due date'] = pd.to_datetime(df['Due date'], errors='coerce')\n"
     ]
    }
   ],
   "source": [
    "df['Due date'] = pd.to_datetime(df['Due date'], errors='coerce')"
   ]
  },
  {
   "cell_type": "code",
   "execution_count": 26,
   "metadata": {},
   "outputs": [
    {
     "name": "stderr",
     "output_type": "stream",
     "text": [
      "C:\\Users\\sonihi\\AppData\\Local\\Temp\\ipykernel_32616\\3537990505.py:1: FutureWarning: A value is trying to be set on a copy of a DataFrame or Series through chained assignment using an inplace method.\n",
      "The behavior will change in pandas 3.0. This inplace method will never work because the intermediate object on which we are setting values always behaves as a copy.\n",
      "\n",
      "For example, when doing 'df[col].method(value, inplace=True)', try using 'df.method({col: value}, inplace=True)' or df[col] = df[col].method(value) instead, to perform the operation inplace on the original object.\n",
      "\n",
      "\n",
      "  df['Country(ies)'].fillna('Global', inplace=True)\n"
     ]
    }
   ],
   "source": [
    "df['Country(ies)'].fillna('Global', inplace=True)"
   ]
  },
  {
   "cell_type": "code",
   "execution_count": 27,
   "metadata": {},
   "outputs": [
    {
     "name": "stderr",
     "output_type": "stream",
     "text": [
      "C:\\Users\\sonihi\\AppData\\Local\\Temp\\ipykernel_32616\\1563001210.py:1: FutureWarning: A value is trying to be set on a copy of a DataFrame or Series through chained assignment using an inplace method.\n",
      "The behavior will change in pandas 3.0. This inplace method will never work because the intermediate object on which we are setting values always behaves as a copy.\n",
      "\n",
      "For example, when doing 'df[col].method(value, inplace=True)', try using 'df.method({col: value}, inplace=True)' or df[col] = df[col].method(value) instead, to perform the operation inplace on the original object.\n",
      "\n",
      "\n",
      "  df['Lead Unit'].fillna('', inplace=True)\n"
     ]
    }
   ],
   "source": [
    "df['Lead Unit'].fillna('', inplace=True)"
   ]
  },
  {
   "cell_type": "code",
   "execution_count": 28,
   "metadata": {},
   "outputs": [],
   "source": [
    "import os\n",
    "import sys\n",
    "\n",
    "sys.path.append(os.path.abspath('C:/Projects/Opportunity Tracker/opportunity_tracker'))\n",
    "os.environ.setdefault('DJANGO_SETTINGS_MODULE', 'opportunity_tracker.settings')\n",
    "import django\n",
    "django.setup()\n"
   ]
  },
  {
   "cell_type": "code",
   "execution_count": 29,
   "metadata": {},
   "outputs": [],
   "source": [
    "from tracker.models import Opportunity, FundingAgency, Country, Unit\n",
    "from django.contrib.auth.models import User"
   ]
  },
  {
   "cell_type": "code",
   "execution_count": 30,
   "metadata": {},
   "outputs": [
    {
     "data": {
      "text/html": [
       "<div>\n",
       "<style scoped>\n",
       "    .dataframe tbody tr th:only-of-type {\n",
       "        vertical-align: middle;\n",
       "    }\n",
       "\n",
       "    .dataframe tbody tr th {\n",
       "        vertical-align: top;\n",
       "    }\n",
       "\n",
       "    .dataframe thead th {\n",
       "        text-align: right;\n",
       "    }\n",
       "</style>\n",
       "<table border=\"1\" class=\"dataframe\">\n",
       "  <thead>\n",
       "    <tr style=\"text-align: right;\">\n",
       "      <th></th>\n",
       "      <th>Funding agency</th>\n",
       "      <th>Title</th>\n",
       "      <th>Country(ies)</th>\n",
       "      <th>EoI /RFP</th>\n",
       "      <th>Due date</th>\n",
       "      <th>Lead Unit</th>\n",
       "      <th>Unnamed: 8</th>\n",
       "      <th>Note</th>\n",
       "    </tr>\n",
       "  </thead>\n",
       "  <tbody>\n",
       "    <tr>\n",
       "      <th>0</th>\n",
       "      <td>WHO</td>\n",
       "      <td>Systematic reviews of cost effectiveness studi...</td>\n",
       "      <td>Global</td>\n",
       "      <td>RFP</td>\n",
       "      <td>NaT</td>\n",
       "      <td></td>\n",
       "      <td>Need to demonstrate 5 yrs experience with GRAD...</td>\n",
       "      <td>NaN</td>\n",
       "    </tr>\n",
       "    <tr>\n",
       "      <th>1</th>\n",
       "      <td>UNITAID</td>\n",
       "      <td>Accelerate demand and adoption of new and unde...</td>\n",
       "      <td>Global</td>\n",
       "      <td>RFP</td>\n",
       "      <td>NaT</td>\n",
       "      <td></td>\n",
       "      <td>Improving access to lifesaving tools for preve...</td>\n",
       "      <td>NaN</td>\n",
       "    </tr>\n",
       "    <tr>\n",
       "      <th>2</th>\n",
       "      <td>Enabel</td>\n",
       "      <td>Development of the Strategy and the Digitaliza...</td>\n",
       "      <td>Mauritania</td>\n",
       "      <td>RFP</td>\n",
       "      <td>2024-12-06</td>\n",
       "      <td></td>\n",
       "      <td>Team: Damien, Daniella, Simeon, Patrick D. Iss...</td>\n",
       "      <td>NaN</td>\n",
       "    </tr>\n",
       "    <tr>\n",
       "      <th>3</th>\n",
       "      <td>WHO</td>\n",
       "      <td>Nigeria Pathway to Malaria Pre-Elimination and...</td>\n",
       "      <td>Nigeria</td>\n",
       "      <td>RFP</td>\n",
       "      <td>NaT</td>\n",
       "      <td></td>\n",
       "      <td>Possibly for/with Prof. Wellington at U of Lag...</td>\n",
       "      <td>NaN</td>\n",
       "    </tr>\n",
       "    <tr>\n",
       "      <th>4</th>\n",
       "      <td>WHO</td>\n",
       "      <td>RFP 2024.16 Mid-Term Review of Unitaid’s 2023-...</td>\n",
       "      <td>Geneva</td>\n",
       "      <td>RFP</td>\n",
       "      <td>2024-12-19</td>\n",
       "      <td></td>\n",
       "      <td>19/11: CoI with on-going work with Unitaid? Tr...</td>\n",
       "      <td>NaN</td>\n",
       "    </tr>\n",
       "  </tbody>\n",
       "</table>\n",
       "</div>"
      ],
      "text/plain": [
       "  Funding agency                                              Title  \\\n",
       "0            WHO  Systematic reviews of cost effectiveness studi...   \n",
       "1        UNITAID  Accelerate demand and adoption of new and unde...   \n",
       "2         Enabel  Development of the Strategy and the Digitaliza...   \n",
       "3            WHO  Nigeria Pathway to Malaria Pre-Elimination and...   \n",
       "4            WHO  RFP 2024.16 Mid-Term Review of Unitaid’s 2023-...   \n",
       "\n",
       "  Country(ies) EoI /RFP   Due date Lead Unit  \\\n",
       "0       Global      RFP        NaT             \n",
       "1       Global      RFP        NaT             \n",
       "2   Mauritania      RFP 2024-12-06             \n",
       "3      Nigeria      RFP        NaT             \n",
       "4      Geneva       RFP 2024-12-19             \n",
       "\n",
       "                                          Unnamed: 8 Note  \n",
       "0  Need to demonstrate 5 yrs experience with GRAD...  NaN  \n",
       "1  Improving access to lifesaving tools for preve...  NaN  \n",
       "2  Team: Damien, Daniella, Simeon, Patrick D. Iss...  NaN  \n",
       "3  Possibly for/with Prof. Wellington at U of Lag...  NaN  \n",
       "4  19/11: CoI with on-going work with Unitaid? Tr...  NaN  "
      ]
     },
     "execution_count": 30,
     "metadata": {},
     "output_type": "execute_result"
    }
   ],
   "source": [
    "df.head()"
   ]
  },
  {
   "cell_type": "code",
   "execution_count": 31,
   "metadata": {},
   "outputs": [],
   "source": [
    "from asgiref.sync import sync_to_async\n",
    "from django.db.models import Q\n",
    "import numpy as np"
   ]
  },
  {
   "cell_type": "code",
   "execution_count": 32,
   "metadata": {},
   "outputs": [],
   "source": [
    "@sync_to_async\n",
    "def get_funding_agency(code):\n",
    "    try:\n",
    "        return FundingAgency.objects.filter(\n",
    "                                                Q(code__iexact=code) | Q(name__iexact=code)\n",
    "                                            ).first()\n",
    "    except(FundingAgency.DoesNotExist):\n",
    "        print(f\"Funding Agency {code} does not exist\") "
   ]
  },
  {
   "cell_type": "code",
   "execution_count": 33,
   "metadata": {},
   "outputs": [],
   "source": [
    "@sync_to_async\n",
    "def get_countries(country_codes):\n",
    "    codes = country_codes.split(',')\n",
    "    countries = []\n",
    "    try:\n",
    "        for code in codes:\n",
    "            country = Country.objects.filter(\n",
    "            Q(code__iexact=code.strip()) | Q(name__iexact=code.strip())\n",
    "            ).first()\n",
    "            if country:\n",
    "                countries.append(country)\n",
    "            else:\n",
    "                print(f\"{code} not found\")\n",
    "\n",
    "    except Exception as e:\n",
    "        print(f\"get_countries: {e}\")\n",
    "    finally:\n",
    "        return countries"
   ]
  },
  {
   "cell_type": "code",
   "execution_count": 34,
   "metadata": {},
   "outputs": [],
   "source": [
    "@sync_to_async\n",
    "def get_lead_unit(code):\n",
    "    try:\n",
    "        return Unit.objects.filter(\n",
    "            Q(code__iexact=code) | Q(name__iexact=code)\n",
    "        ).first()\n",
    "    except Exception as e:\n",
    "        print(f\"get_lead_unit: {e}\")"
   ]
  },
  {
   "cell_type": "code",
   "execution_count": 35,
   "metadata": {},
   "outputs": [],
   "source": [
    "@sync_to_async\n",
    "def add_opportunity(ref_no, title, funding_agency, opp_type, due_date, lead_unit, note, countries):\n",
    "    user = User.objects.get(id=1)\n",
    "    opportunity = Opportunity.objects.create(\n",
    "            ref_no=ref_no,\n",
    "            title=title,\n",
    "            funding_agency=funding_agency,\n",
    "            opp_type=opp_type,\n",
    "            due_date=due_date,\n",
    "            lead_unit=lead_unit,\n",
    "            notes=note,\n",
    "            created_by= user\n",
    "        )\n",
    "\n",
    "    opportunity.save()\n",
    "    opportunity.countries.set(countries)    "
   ]
  },
  {
   "cell_type": "code",
   "execution_count": 36,
   "metadata": {},
   "outputs": [
    {
     "name": "stdout",
     "output_type": "stream",
     "text": [
      "An unhandled exception occurred: [Errno 11001] getaddrinfo failed\n",
      "An unhandled exception occurred: [Errno 11001] getaddrinfo failed\n",
      "An unhandled exception occurred: [Errno 11001] getaddrinfo failed\n"
     ]
    },
    {
     "name": "stderr",
     "output_type": "stream",
     "text": [
      "c:\\Projects\\Opportunity Tracker\\venv\\Lib\\site-packages\\django\\db\\models\\fields\\__init__.py:1665: RuntimeWarning: DateTimeField Opportunity.due_date received a naive datetime (2024-12-06 00:00:00) while time zone support is active.\n",
      "  warnings.warn(\n",
      "c:\\Projects\\Opportunity Tracker\\venv\\Lib\\site-packages\\django\\db\\models\\fields\\__init__.py:1665: RuntimeWarning: DateTimeField Opportunity.due_date received a naive datetime (2024-12-19 00:00:00) while time zone support is active.\n",
      "  warnings.warn(\n",
      "c:\\Projects\\Opportunity Tracker\\venv\\Lib\\site-packages\\django\\db\\models\\fields\\__init__.py:1665: RuntimeWarning: DateTimeField Opportunity.due_date received a naive datetime (2024-12-20 00:00:00) while time zone support is active.\n",
      "  warnings.warn(\n",
      "c:\\Projects\\Opportunity Tracker\\venv\\Lib\\site-packages\\django\\db\\models\\fields\\__init__.py:1665: RuntimeWarning: DateTimeField Opportunity.due_date received a naive datetime (2024-12-15 00:00:00) while time zone support is active.\n",
      "  warnings.warn(\n",
      "c:\\Projects\\Opportunity Tracker\\venv\\Lib\\site-packages\\django\\db\\models\\fields\\__init__.py:1665: RuntimeWarning: DateTimeField Opportunity.due_date received a naive datetime (2024-12-18 00:00:00) while time zone support is active.\n",
      "  warnings.warn(\n",
      "c:\\Projects\\Opportunity Tracker\\venv\\Lib\\site-packages\\django\\db\\models\\fields\\__init__.py:1665: RuntimeWarning: DateTimeField Opportunity.due_date received a naive datetime (2025-02-28 00:00:00) while time zone support is active.\n",
      "  warnings.warn(\n",
      "c:\\Projects\\Opportunity Tracker\\venv\\Lib\\site-packages\\django\\db\\models\\fields\\__init__.py:1665: RuntimeWarning: DateTimeField Opportunity.due_date received a naive datetime (2024-11-29 00:00:00) while time zone support is active.\n",
      "  warnings.warn(\n"
     ]
    },
    {
     "name": "stdout",
     "output_type": "stream",
     "text": [
      "An unhandled exception occurred: [Errno 11001] getaddrinfo failed\n",
      "Geneva  not found\n",
      "An unhandled exception occurred: [Errno 11001] getaddrinfo failed\n",
      "An unhandled exception occurred: [Errno 11001] getaddrinfo failed\n",
      "An unhandled exception occurred: [Errno 11001] getaddrinfo failed\n",
      "An unhandled exception occurred: [Errno 11001] getaddrinfo failed\n",
      "An unhandled exception occurred: [Errno 11001] getaddrinfo failed\n",
      " CdI not found\n",
      "An unhandled exception occurred: [Errno 11001] getaddrinfo failed\n",
      "An unhandled exception occurred: [Errno 11001] getaddrinfo failed\n",
      "An unhandled exception occurred: [Errno 11001] getaddrinfo failed\n",
      "An unhandled exception occurred: [Errno 11001] getaddrinfo failed\n"
     ]
    },
    {
     "name": "stderr",
     "output_type": "stream",
     "text": [
      "c:\\Projects\\Opportunity Tracker\\venv\\Lib\\site-packages\\django\\db\\models\\fields\\__init__.py:1665: RuntimeWarning: DateTimeField Opportunity.due_date received a naive datetime (2025-03-01 00:00:00) while time zone support is active.\n",
      "  warnings.warn(\n",
      "c:\\Projects\\Opportunity Tracker\\venv\\Lib\\site-packages\\django\\db\\models\\fields\\__init__.py:1665: RuntimeWarning: DateTimeField Opportunity.due_date received a naive datetime (2024-11-21 00:00:00) while time zone support is active.\n",
      "  warnings.warn(\n",
      "c:\\Projects\\Opportunity Tracker\\venv\\Lib\\site-packages\\django\\db\\models\\fields\\__init__.py:1665: RuntimeWarning: DateTimeField Opportunity.due_date received a naive datetime (2024-11-15 00:00:00) while time zone support is active.\n",
      "  warnings.warn(\n",
      "c:\\Projects\\Opportunity Tracker\\venv\\Lib\\site-packages\\django\\db\\models\\fields\\__init__.py:1665: RuntimeWarning: DateTimeField Opportunity.due_date received a naive datetime (2024-11-07 00:00:00) while time zone support is active.\n",
      "  warnings.warn(\n",
      "c:\\Projects\\Opportunity Tracker\\venv\\Lib\\site-packages\\django\\db\\models\\fields\\__init__.py:1665: RuntimeWarning: DateTimeField Opportunity.due_date received a naive datetime (1934-08-23 00:00:00) while time zone support is active.\n",
      "  warnings.warn(\n",
      "c:\\Projects\\Opportunity Tracker\\venv\\Lib\\site-packages\\django\\db\\models\\fields\\__init__.py:1665: RuntimeWarning: DateTimeField Opportunity.due_date received a naive datetime (2024-08-30 00:00:00) while time zone support is active.\n",
      "  warnings.warn(\n"
     ]
    },
    {
     "name": "stdout",
     "output_type": "stream",
     "text": [
      "An unhandled exception occurred: [Errno 11001] getaddrinfo failed\n",
      "An unhandled exception occurred: [Errno 11001] getaddrinfo failed\n",
      "An unhandled exception occurred: [Errno 11001] getaddrinfo failed\n",
      "Error 16: value too long for type character varying(50)\n",
      "An unhandled exception occurred: [Errno 11001] getaddrinfo failed\n",
      "An unhandled exception occurred: [Errno 11001] getaddrinfo failed\n",
      "An unhandled exception occurred: [Errno 11001] getaddrinfo failed\n",
      "An unhandled exception occurred: [Errno 11001] getaddrinfo failed\n",
      "An unhandled exception occurred: [Errno 11001] getaddrinfo failed\n",
      "An unhandled exception occurred: [Errno 11001] getaddrinfo failed\n",
      "An unhandled exception occurred: [Errno 11001] getaddrinfo failed\n",
      "An unhandled exception occurred: [Errno 11001] getaddrinfo failed\n",
      "An unhandled exception occurred: [Errno 11001] getaddrinfo failed\n",
      "East and Southern Africa not found\n"
     ]
    },
    {
     "name": "stderr",
     "output_type": "stream",
     "text": [
      "c:\\Projects\\Opportunity Tracker\\venv\\Lib\\site-packages\\django\\db\\models\\fields\\__init__.py:1665: RuntimeWarning: DateTimeField Opportunity.due_date received a naive datetime (2024-08-26 00:00:00) while time zone support is active.\n",
      "  warnings.warn(\n",
      "c:\\Projects\\Opportunity Tracker\\venv\\Lib\\site-packages\\django\\db\\models\\fields\\__init__.py:1665: RuntimeWarning: DateTimeField Opportunity.due_date received a naive datetime (2024-07-11 00:00:00) while time zone support is active.\n",
      "  warnings.warn(\n",
      "c:\\Projects\\Opportunity Tracker\\venv\\Lib\\site-packages\\django\\db\\models\\fields\\__init__.py:1665: RuntimeWarning: DateTimeField Opportunity.due_date received a naive datetime (2024-07-10 00:00:00) while time zone support is active.\n",
      "  warnings.warn(\n",
      "c:\\Projects\\Opportunity Tracker\\venv\\Lib\\site-packages\\django\\db\\models\\fields\\__init__.py:1665: RuntimeWarning: DateTimeField Opportunity.due_date received a naive datetime (2024-07-08 00:00:00) while time zone support is active.\n",
      "  warnings.warn(\n",
      "c:\\Projects\\Opportunity Tracker\\venv\\Lib\\site-packages\\django\\db\\models\\fields\\__init__.py:1665: RuntimeWarning: DateTimeField Opportunity.due_date received a naive datetime (2024-06-26 00:00:00) while time zone support is active.\n",
      "  warnings.warn(\n",
      "c:\\Projects\\Opportunity Tracker\\venv\\Lib\\site-packages\\django\\db\\models\\fields\\__init__.py:1665: RuntimeWarning: DateTimeField Opportunity.due_date received a naive datetime (2024-05-31 00:00:00) while time zone support is active.\n",
      "  warnings.warn(\n",
      "c:\\Projects\\Opportunity Tracker\\venv\\Lib\\site-packages\\django\\db\\models\\fields\\__init__.py:1665: RuntimeWarning: DateTimeField Opportunity.due_date received a naive datetime (2024-05-16 00:00:00) while time zone support is active.\n",
      "  warnings.warn(\n",
      "c:\\Projects\\Opportunity Tracker\\venv\\Lib\\site-packages\\django\\db\\models\\fields\\__init__.py:1665: RuntimeWarning: DateTimeField Opportunity.due_date received a naive datetime (2024-04-22 00:00:00) while time zone support is active.\n",
      "  warnings.warn(\n",
      "c:\\Projects\\Opportunity Tracker\\venv\\Lib\\site-packages\\django\\db\\models\\fields\\__init__.py:1665: RuntimeWarning: DateTimeField Opportunity.due_date received a naive datetime (2024-01-31 00:00:00) while time zone support is active.\n",
      "  warnings.warn(\n"
     ]
    },
    {
     "name": "stdout",
     "output_type": "stream",
     "text": [
      "An unhandled exception occurred: [Errno 11001] getaddrinfo failed\n",
      "Remote not found\n",
      "An unhandled exception occurred: [Errno 11001] getaddrinfo failed\n",
      "Remote not found\n",
      "An unhandled exception occurred: [Errno 11001] getaddrinfo failed\n",
      "Remote not found\n",
      "An unhandled exception occurred: [Errno 11001] getaddrinfo failed\n",
      "An unhandled exception occurred: [Errno 11001] getaddrinfo failed\n",
      "An unhandled exception occurred: [Errno 11001] getaddrinfo failed\n",
      "An unhandled exception occurred: [Errno 11001] getaddrinfo failed\n",
      "Remote not found\n",
      "An unhandled exception occurred: [Errno 11001] getaddrinfo failed\n",
      "An unhandled exception occurred: [Errno 11001] getaddrinfo failed\n",
      "An unhandled exception occurred: [Errno 11001] getaddrinfo failed\n",
      "selected countries not found\n",
      "An unhandled exception occurred: [Errno 11001] getaddrinfo failed\n",
      "An unhandled exception occurred: [Errno 11001] getaddrinfo failed\n",
      "An unhandled exception occurred: [Errno 11001] getaddrinfo failed\n",
      "Cameroun not found\n",
      "An unhandled exception occurred: [Errno 11001] getaddrinfo failed\n",
      "An unhandled exception occurred: [Errno 11001] getaddrinfo failed\n",
      "Consorita under the lead of University of Antwerpen (Belgium not found\n",
      " UK not found\n",
      " Switzerland) not found\n",
      "An unhandled exception occurred: [Errno 11001] getaddrinfo failed\n",
      "Consorita under the lead of Limoges not found\n",
      "An unhandled exception occurred: [Errno 11001] getaddrinfo failed\n",
      "DRC not found\n",
      "Error 43: value too long for type character varying(3)\n",
      "An unhandled exception occurred: [Errno 11001] getaddrinfo failed\n",
      "An unhandled exception occurred: [Errno 11001] getaddrinfo failed\n",
      "An unhandled exception occurred: [Errno 11001] getaddrinfo failed\n",
      "An unhandled exception occurred: [Errno 11001] getaddrinfo failed\n",
      "An unhandled exception occurred: [Errno 11001] getaddrinfo failed\n",
      "An unhandled exception occurred: [Errno 11001] getaddrinfo failed\n",
      "An unhandled exception occurred: [Errno 11001] getaddrinfo failed\n"
     ]
    },
    {
     "name": "stderr",
     "output_type": "stream",
     "text": [
      "c:\\Projects\\Opportunity Tracker\\venv\\Lib\\site-packages\\django\\db\\models\\fields\\__init__.py:1665: RuntimeWarning: DateTimeField Opportunity.due_date received a naive datetime (2024-11-25 00:00:00) while time zone support is active.\n",
      "  warnings.warn(\n",
      "c:\\Projects\\Opportunity Tracker\\venv\\Lib\\site-packages\\django\\db\\models\\fields\\__init__.py:1665: RuntimeWarning: DateTimeField Opportunity.due_date received a naive datetime (2024-11-30 00:00:00) while time zone support is active.\n",
      "  warnings.warn(\n",
      "c:\\Projects\\Opportunity Tracker\\venv\\Lib\\site-packages\\django\\db\\models\\fields\\__init__.py:1665: RuntimeWarning: DateTimeField Opportunity.due_date received a naive datetime (2024-12-05 00:00:00) while time zone support is active.\n",
      "  warnings.warn(\n",
      "c:\\Projects\\Opportunity Tracker\\venv\\Lib\\site-packages\\django\\db\\models\\fields\\__init__.py:1665: RuntimeWarning: DateTimeField Opportunity.due_date received a naive datetime (2024-11-26 00:00:00) while time zone support is active.\n",
      "  warnings.warn(\n"
     ]
    },
    {
     "name": "stdout",
     "output_type": "stream",
     "text": [
      "An unhandled exception occurred: [Errno 11001] getaddrinfo failed\n",
      "An unhandled exception occurred: [Errno 11001] getaddrinfo failed\n",
      "An unhandled exception occurred: [Errno 11001] getaddrinfo failed\n",
      "An unhandled exception occurred: [Errno 11001] getaddrinfo failed\n",
      "CdI - two regions Loh Dijouba and Haut Sassandra not found\n",
      "An unhandled exception occurred: [Errno 11001] getaddrinfo failed\n",
      "An unhandled exception occurred: [Errno 11001] getaddrinfo failed\n"
     ]
    },
    {
     "name": "stderr",
     "output_type": "stream",
     "text": [
      "c:\\Projects\\Opportunity Tracker\\venv\\Lib\\site-packages\\django\\db\\models\\fields\\__init__.py:1665: RuntimeWarning: DateTimeField Opportunity.due_date received a naive datetime (2022-11-01 00:00:00) while time zone support is active.\n",
      "  warnings.warn(\n"
     ]
    }
   ],
   "source": [
    "for ind, opp in df.iterrows():\n",
    "    funding_agency = await get_funding_agency(opp['Funding agency'])\n",
    "    title = opp['Title']\n",
    "    countries = await get_countries(opp['Country(ies)'])\n",
    "    opp_type = opp['EoI /RFP']\n",
    "    due_date = opp['Due date'] if opp['Due date'] is not pd.NaT else None\n",
    "    lead_unit = await get_lead_unit(opp['Lead Unit']) if opp['Lead Unit'] != np.nan else None\n",
    "    note = opp['Note']\n",
    "    ref_no = f\"{funding_agency}/2024/11/{ind}\"\n",
    "    \n",
    "    try:\n",
    "        await add_opportunity(ref_no, title, funding_agency, opp_type, due_date, lead_unit, note, countries)\n",
    "    except Exception as e:\n",
    "        print(f\"Error {ind}: {e}\")"
   ]
  },
  {
   "cell_type": "code",
   "execution_count": null,
   "metadata": {},
   "outputs": [],
   "source": []
  }
 ],
 "metadata": {
  "kernelspec": {
   "display_name": "venv",
   "language": "python",
   "name": "python3"
  },
  "language_info": {
   "codemirror_mode": {
    "name": "ipython",
    "version": 3
   },
   "file_extension": ".py",
   "mimetype": "text/x-python",
   "name": "python",
   "nbconvert_exporter": "python",
   "pygments_lexer": "ipython3",
   "version": "3.13.0"
  }
 },
 "nbformat": 4,
 "nbformat_minor": 2
}
